{
 "cells": [
  {
   "cell_type": "markdown",
   "metadata": {},
   "source": [
    "# Obfuscating songs lyrics using NLTK:\n",
    "***(another fun way to rickroll your friends)***"
   ]
  },
  {
   "cell_type": "markdown",
   "metadata": {},
   "source": [
    "### First Method:\n",
    "#### Filter Out Stop Words and Only Use Text Stems"
   ]
  },
  {
   "cell_type": "code",
   "execution_count": 5,
   "metadata": {},
   "outputs": [],
   "source": [
    "from nltk.tokenize import sent_tokenize, word_tokenize\n",
    "from nltk.corpus import stopwords\n",
    "from nltk.stem import PorterStemmer\n",
    "from nltk.tokenize import PunktSentenceTokenizer\n",
    "import nltk\n",
    "\n",
    "ps = PorterStemmer()"
   ]
  },
  {
   "cell_type": "code",
   "execution_count": 6,
   "metadata": {},
   "outputs": [
    {
     "name": "stdout",
     "output_type": "stream",
     "text": [
      "everi night dream I see , I feel that I know go far across distanc and space us you come show go near , far , wherev I believ heart go onc , open door and 're heart and heart go love touch us one time and last lifetim and never let go 'til 're gone love I love one true time I 'd hold In life , 'll alway go near , far , wherev I believ heart go ( heart go ? ) onc , open door and 're heart and heart go you 're , 's noth I fear and I know heart go We 'll stay forev way you safe heart My heart go\n"
     ]
    }
   ],
   "source": [
    "stop_words = set(stopwords.words(\"english\")) #stop words include words like \"a, is, the of\"\n",
    "words = word_tokenize(Celine)\n",
    "filtered_sentence = [w for w in words if w not in stop_words]\n",
    "stems = [ps.stem(w) for w in filtered_sentence] #stems are the root/base of the word (\"practiced\" -> \"practice\")\n",
    "print(\" \".join(stems))"
   ]
  },
  {
   "cell_type": "markdown",
   "metadata": {},
   "source": [
    "When put through this filtering, \"My Heart Will Go On\" by Celine Dion has an almost Elizabethan English quality about it. The text is obscured, but still decipherable. But will it be enough for \"Never Gonna Give You Up\"?"
   ]
  },
  {
   "cell_type": "markdown",
   "metadata": {},
   "source": [
    "### First method using Rick Astley's masterpiece"
   ]
  },
  {
   "cell_type": "code",
   "execution_count": 7,
   "metadata": {},
   "outputs": [
    {
     "name": "stdout",
     "output_type": "stream",
     "text": [
      "We 're stranger love you know rule I A full commit 's I 'm think you would n't get guy I wan na tell I 'm feel got ta make understand never gon na give never gon na let never gon na run around desert never gon na make cri never gon na say goodby never gon na tell lie hurt We 've known long your heart 's ach , 're shi say insid , know 's go We know game , 're gon na play and ask I 'm feel Do n't tell 're blind see never gon na give never gon na let never gon na run around desert never gon na make cri never gon na say goodby never gon na tell lie hurt never gon na give never gon na let never gon na run around desert never gon na make cri never gon na say goodby never gon na tell lie hurt ooh ( give ) ooh-ooh ( give ) ooh-ooh never gon na give , never gon na give ( give ) ooh-ooh never gon na give , never gon na give ( give ) We 've known long your heart 's ach , 're shi say insid , know 's go We know game , 're gon na play I wan na tell I 'm feel got ta make understand never gon na give never gon na let never gon na run around desert never gon na make cri never gon na say goodby never gon na tell lie hurt never gon na give never gon na let never gon na run around desert never gon na make cri never gon na say goodby never gon na tell lie hurt never gon na give never gon na let never gon na run around desert never gon na make cri never gon na say goodby never gon na tell lie hurt\n"
     ]
    }
   ],
   "source": [
    "stop_words = set(stopwords.words(\"english\"))\n",
    "words = word_tokenize(Rick)\n",
    "filtered_sentence = [w for w in words if w not in stop_words]\n",
    "stems = [ps.stem(w) for w in filtered_sentence]\n",
    "print(\" \".join(stems))"
   ]
  },
  {
   "cell_type": "markdown",
   "metadata": {},
   "source": [
    "This did have an effect on the lyrics, but the end result looks less like an obfuscation and more like poorly scraped html to me. I think we can do better."
   ]
  },
  {
   "cell_type": "markdown",
   "metadata": {},
   "source": [
    "### Second Method: \n",
    "#### Use a Different 80s Bop as Training Data, Tag Test Song, and Filter Out All but Desired Tags "
   ]
  },
  {
   "cell_type": "code",
   "execution_count": 8,
   "metadata": {},
   "outputs": [
    {
     "name": "stdout",
     "output_type": "stream",
     "text": [
      "I drums tonight she whispers conversation She flight moonlit wings stars me salvation I man way find words melodies He me say boy it you It take lot drag me you nothing men do I bless rains take time do things we dogs night they restless company I I do sure I cure thing I become It take lot drag me you nothing men do I bless rains take time do things we ooh boy she you It take lot drag me you nothing men do I bless rains I rains I rain I rains I rain I rains I rains ah gon take time take time do things we ooh\n"
     ]
    }
   ],
   "source": [
    "tokenizer = PunktSentenceTokenizer(Hall_Oates) #training data (Song_B) is used to create tokenizer  \n",
    "tokenized = tokenizer.tokenize(Toto) #tokenizer is now used on test data (Song_C)\n",
    "\n",
    "for i in tokenized:\n",
    "    words = nltk.word_tokenize(i)\n",
    "    tagged = nltk.pos_tag(words) #tagging creates a tuple of the (word, pos) -> (\"I\", \"PRP\")\n",
    "  \n",
    "final = []\n",
    "    \n",
    "#Personal Pronouns, Singular Nouns, Plural Nouns, Base From Verb\n",
    "for word, pos in tagged:\n",
    "    if pos == \"PRP\" or pos == \"NN\" or pos == \"NNS\" or pos == \"VB\" or pos == \"VBN\":\n",
    "        final.append(word)\n",
    "        \n",
    "new_lyrics = \" \".join(final)\n",
    "print(new_lyrics)"
   ]
  },
  {
   "cell_type": "markdown",
   "metadata": {},
   "source": [
    "When used on \"Africa\" by Toto, the second method almost creates a type of beat poetry. I really like it. It might be a bit too easy to guess, but I enjoy how it maintains the spirit of the song while still being stripped down linguistically. But how will it fare with \"Never Gonna Give You Up\"?"
   ]
  },
  {
   "cell_type": "markdown",
   "metadata": {},
   "source": [
    "### Second method using Rick Astley's masterpiece"
   ]
  },
  {
   "cell_type": "code",
   "execution_count": 9,
   "metadata": {},
   "outputs": [
    {
     "name": "stdout",
     "output_type": "stream",
     "text": [
      "We strangers love You rules do I commitment I You get guy I wan tell you I you gon give you let you gon run desert you make you cry gon na gon tell lie hurt you We known heart been you say it we been We game we play it you me I tell me you see gon give you let you gon run desert you make you cry gon na gon tell lie hurt you gon give you let you gon run desert you make you cry gon na gon tell lie hurt you you you give give Give you give give Give you We known heart been you say it we been We game we play it I wan tell you I you gon give you let you gon run desert you make you cry gon na gon tell lie hurt you gon give you let you gon run desert you make you cry gon na gon tell lie hurt you gon give you let you gon run desert you make you cry gon na gon tell lie hurt you\n"
     ]
    }
   ],
   "source": [
    "tokenized = tokenizer.tokenize(Rick)\n",
    "\n",
    "for i in tokenized:\n",
    "    words = nltk.word_tokenize(i)\n",
    "    tagged = nltk.pos_tag(words)\n",
    "  \n",
    "final = []\n",
    "    \n",
    "#Personal Pronouns, Singular Nouns, Plural Nouns, Base From Verb\n",
    "for word, pos in tagged:\n",
    "    if pos == \"PRP\" or pos == \"NN\" or pos == \"NNS\" or pos == \"VB\" or pos == \"VBN\":\n",
    "        final.append(word)\n",
    "        \n",
    "new_lyrics = \" \".join(final)\n",
    "print(new_lyrics)"
   ]
  },
  {
   "cell_type": "markdown",
   "metadata": {},
   "source": [
    "The second method is a definite improvement. It's harder to guess (though still maybe too easy) and it is undeniably the song we love and can never escape. "
   ]
  },
  {
   "cell_type": "markdown",
   "metadata": {},
   "source": [
    "### Song Lyrics/Data:"
   ]
  },
  {
   "cell_type": "code",
   "execution_count": 1,
   "metadata": {},
   "outputs": [],
   "source": [
    "Celine = \"\"\"Every night in my dreams\n",
    "I see you, I feel you\n",
    "That is how I know you go on\n",
    "Far across the distance\n",
    "And spaces between us\n",
    "You have come to show you go on\n",
    "Near, far, wherever you are\n",
    "I believe that the heart does go on\n",
    "Once more, you open the door\n",
    "And you're here in my heart\n",
    "And my heart will go on and on\n",
    "Love can touch us one time\n",
    "And last for a lifetime\n",
    "And never let go 'til we're gone\n",
    "Love was when I loved you\n",
    "One true time I'd hold to\n",
    "In my life, we'll always go on\n",
    "Near, far, wherever you are\n",
    "I believe that the heart does go on (why does the heart go on?)\n",
    "Once more, you open the door\n",
    "And you're here in my heart\n",
    "And my heart will go on and on\n",
    "You're here, there's nothing I fear\n",
    "And I know that my heart will go on\n",
    "We'll stay forever this way\n",
    "You are safe in my heart and\n",
    "My heart will go on and on\"\"\"\n",
    "\n",
    "#My Heart Will Go On by Celine Dion"
   ]
  },
  {
   "cell_type": "code",
   "execution_count": 2,
   "metadata": {},
   "outputs": [],
   "source": [
    "Hall_Oates = \"\"\"You're a rich girl, and you've gone too far\n",
    "'Cause you know it don't matter anyway\n",
    "You can rely on the old man's money\n",
    "You can rely on the old man's money\n",
    "It's a bitch girl but it's gone too far\n",
    "'Cause you know it don't matter anyway\n",
    "Say money, but it won't get you too far\n",
    "Get you too far\n",
    "And don't you know, don't you know\n",
    "That it's wrong to take what is given you\n",
    "So far gone, on your own\n",
    "You could get along if you try to be strong\n",
    "But you'll never be strong 'cause\n",
    "You're a rich girl, and you've gone too far\n",
    "'Cause you know it don't matter anyway\n",
    "You can rely on the old man's money\n",
    "You can rely on the old man's money\n",
    "It's a bitch girl and it's gone too far\n",
    "'Cause you know it don't matter anyway\n",
    "Say money, but it won't get you too far\n",
    "Get you too far\n",
    "High and dry, out of the rain\n",
    "It's so easy to hurt others when you can't feel pain\n",
    "And don't you know that a love can't grow\n",
    "'Cause there's too much to give, 'cause you'd rather live\n",
    "For the thrill of it all, oh\n",
    "You're a rich girl, and you've gone too far\n",
    "'Cause you know it don't matter anyway\n",
    "You can rely on the old man's money\n",
    "You can rely on the old man's money\n",
    "It's a bitch girl and it's gone too far\n",
    "'Cause you know it don't matter anyway\n",
    "Say money, but it won't get you too far\n",
    "Say money, but it won't get you too far\n",
    "Say money, but it won't get you too far\n",
    "Get you too far\n",
    "And you say\n",
    "You can rely on the old man's money\n",
    "You can rely on the old man's money\n",
    "You're a rich girl, a rich girl\n",
    "Oh, you're a rich, rich girl yeah\n",
    "Say money, but it won't get you too far, oh\"\"\"\n",
    "\n",
    "#Rich Girl by Hall & Oates"
   ]
  },
  {
   "cell_type": "code",
   "execution_count": 3,
   "metadata": {},
   "outputs": [],
   "source": [
    "Toto = \"\"\"\n",
    "I hear the drums echoing tonight\n",
    "But she hears only whispers of some quiet conversation\n",
    "She's coming in, 12:30 flight\n",
    "The moonlit wings reflect the stars that guide me towards salvation\n",
    "I stopped an old man along the way\n",
    "Hoping to find some old forgotten words or ancient melodies\n",
    "He turned to me as if to say, \"Hurry boy, it's waiting there for you\"\n",
    "It's gonna take a lot to drag me away from you\n",
    "There's nothing tbhat a hundred men or more could ever do\n",
    "I bless the rains down in Africa\n",
    "Gonna take some time to do the things we never had (ooh, ooh)\n",
    "The wild dogs cry out in the night\n",
    "As they grow restless, longing for some solitary company\n",
    "I know that I must do what's right\n",
    "As sure as Kilimanjaro rises like Olympus above the Serengeti\n",
    "I seek to cure what's deep inside, frightened of this thing that I've become\n",
    "It's gonna take a lot to drag me away from you\n",
    "There's nothing that a hundred men or more could ever do\n",
    "I bless the rains down in Africa\n",
    "Gonna take some time to do the things we never had (ooh, ooh)\n",
    "Hurry boy, she's waiting there for you\n",
    "It's gonna take a lot to drag me away from you\n",
    "There's nothing that a hundred men or more could ever do\n",
    "I bless the rains down in Africa\n",
    "I bless the rains down in Africa\n",
    "(I bless the rain)\n",
    "I bless the rains down in Africa (I bless the rain)\n",
    "I bless the rains down in Africa\n",
    "I bless the rains down in Africa (ah, gonna take the time)\n",
    "Gonna take some time to do the things we never had (ooh, ooh)\n",
    "\"\"\"\n",
    "\n",
    "#Africa by Toto"
   ]
  },
  {
   "cell_type": "code",
   "execution_count": 4,
   "metadata": {},
   "outputs": [],
   "source": [
    "Rick = \"\"\"\n",
    "We're no strangers to love\n",
    "You know the rules and so do I\n",
    "A full commitment's what I'm thinking of\n",
    "You wouldn't get this from any other guy\n",
    "I just wanna tell you how I'm feeling\n",
    "Gotta make you understand\n",
    "Never gonna give you up\n",
    "Never gonna let you down\n",
    "Never gonna run around and desert you\n",
    "Never gonna make you cry\n",
    "Never gonna say goodbye\n",
    "Never gonna tell a lie and hurt you\n",
    "We've known each other for so long\n",
    "Your heart's been aching, but you're too shy to say it\n",
    "Inside, we both know what's been going on\n",
    "We know the game, and we're gonna play it\n",
    "And if you ask me how I'm feeling\n",
    "Don't tell me you're too blind to see\n",
    "Never gonna give you up\n",
    "Never gonna let you down\n",
    "Never gonna run around and desert you\n",
    "Never gonna make you cry\n",
    "Never gonna say goodbye\n",
    "Never gonna tell a lie and hurt you\n",
    "Never gonna give you up\n",
    "Never gonna let you down\n",
    "Never gonna run around and desert you\n",
    "Never gonna make you cry\n",
    "Never gonna say goodbye\n",
    "Never gonna tell a lie and hurt you\n",
    "Ooh (Give you up)\n",
    "Ooh-ooh (Give you up)\n",
    "Ooh-ooh\n",
    "Never gonna give, never gonna give (Give you up)\n",
    "Ooh-ooh\n",
    "Never gonna give, never gonna give (Give you up)\n",
    "We've known each other for so long\n",
    "Your heart's been aching, but you're too shy to say it\n",
    "Inside, we both know what's been going on\n",
    "We know the game, and we're gonna play it\n",
    "I just wanna tell you how I'm feeling\n",
    "Gotta make you understand\n",
    "Never gonna give you up\n",
    "Never gonna let you down\n",
    "Never gonna run around and desert you\n",
    "Never gonna make you cry\n",
    "Never gonna say goodbye\n",
    "Never gonna tell a lie and hurt you\n",
    "Never gonna give you up\n",
    "Never gonna let you down\n",
    "Never gonna run around and desert you\n",
    "Never gonna make you cry\n",
    "Never gonna say goodbye\n",
    "Never gonna tell a lie and hurt you\n",
    "Never gonna give you up\n",
    "Never gonna let you down\n",
    "Never gonna run around and desert you\n",
    "Never gonna make you cry\n",
    "Never gonna say goodbye\n",
    "Never gonna tell a lie and hurt you\"\"\"\n",
    "\n",
    "#Never Gonna Give You Up by Rick Astley"
   ]
  }
 ],
 "metadata": {
  "kernelspec": {
   "display_name": "Python 3",
   "language": "python",
   "name": "python3"
  },
  "language_info": {
   "codemirror_mode": {
    "name": "ipython",
    "version": 3
   },
   "file_extension": ".py",
   "mimetype": "text/x-python",
   "name": "python",
   "nbconvert_exporter": "python",
   "pygments_lexer": "ipython3",
   "version": "3.8.5"
  }
 },
 "nbformat": 4,
 "nbformat_minor": 4
}
